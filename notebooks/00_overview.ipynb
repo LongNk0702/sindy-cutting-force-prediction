{
 "cells": [
  {
   "cell_type": "markdown",
   "id": "8f42fd0c",
   "metadata": {},
   "source": [
    "Loading libraries"
   ]
  },
  {
   "cell_type": "code",
   "execution_count": null,
   "id": "0bcda9e1",
   "metadata": {
    "vscode": {
     "languageId": "plaintext"
    }
   },
   "outputs": [],
   "source": [
    "import pandas as pd\n",
    "import numpy as numpy\n",
    "from pathlib import Path\n",
    "\n",
    "data_dir=Path(\"path/to/data\")\n",
    "force_features=[]\n",
    "\n",
    "for i in range(1,28):\n",
    "    df=pd.read_csv(data_dir/f\"TG{i}.csv\")\n",
    "\n",
    "    df.columns=[c.strip().lower( for c in df.columns)]\n",
    "\n",
    "    features={\n",
    "        \"test_id\": f\"TG{i},\n",
    "    }\n",
    "    for axis in ['fx', 'fy','fz']:\n",
    "        if axis in df.columns:\n",
    "            features[f\"{axis}_mean\"]=df[axis].mean()\n",
    "            features[f\"{axis}_std\"]=df[axis].std()\n",
    "            features[f\"{axis}_max\"]=df[axis].max()\n",
    "            features[f\"{axis}_rms\"]=np.sqrt(np.mean(df[axis]**2))\n",
    "    force_features.append(features)\n",
    "\n",
    "force_df=pd.DataFrame(force_features)\n",
    "force_df.head()"
   ]
  }
 ],
 "metadata": {
  "language_info": {
   "name": "python"
  }
 },
 "nbformat": 4,
 "nbformat_minor": 5
}
